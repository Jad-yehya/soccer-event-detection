{
  "cells": [
    {
      "cell_type": "code",
      "execution_count": null,
      "metadata": {
        "id": "thtMfgagPDqh"
      },
      "outputs": [],
      "source": [
        "import torch\n",
        "import torch.nn as nn\n",
        "import torch.nn.functional as F\n",
        "import torch.utils\n",
        "import torch.distributions\n",
        "import torchvision\n",
        "import numpy as np\n",
        "import matplotlib.pyplot as plt; plt.rcParams['figure.dpi'] = 200\n",
        "from PIL import Image\n",
        "Image.LOAD_TRUNCATED_IMAGES = True\n",
        "from PIL import ImageFile\n",
        "ImageFile.LOAD_TRUNCATED_IMAGES = True\n",
        "from tqdm.notebook import tqdm\n",
        "import os\n",
        "import zipfile\n",
        "from torchvision import transforms, models, datasets"
      ]
    },
    {
      "cell_type": "code",
      "source": [
        "import os\n",
        "import zipfile"
      ],
      "metadata": {
        "id": "GPu82TeFc78p"
      },
      "execution_count": null,
      "outputs": []
    },
    {
      "cell_type": "code",
      "source": [
        "from google.colab import drive\n",
        "drive.mount('/content/drive')"
      ],
      "metadata": {
        "colab": {
          "base_uri": "https://localhost:8080/"
        },
        "id": "dNBzPk9ReeiL",
        "outputId": "5bc315fd-2c40-4e2a-9e5a-052b593493e6"
      },
      "execution_count": null,
      "outputs": [
        {
          "output_type": "stream",
          "name": "stdout",
          "text": [
            "Mounted at /content/drive\n"
          ]
        }
      ]
    },
    {
      "cell_type": "code",
      "source": [
        "device = torch.device(\"cuda\" if torch.cuda.is_available() else \"cpu\")\n",
        "device"
      ],
      "metadata": {
        "colab": {
          "base_uri": "https://localhost:8080/"
        },
        "id": "azpf_Og_Epq8",
        "outputId": "78a64884-536b-4bb8-d47d-126ae1b8dd29"
      },
      "execution_count": null,
      "outputs": [
        {
          "output_type": "execute_result",
          "data": {
            "text/plain": [
              "device(type='cuda')"
            ]
          },
          "metadata": {},
          "execution_count": 4
        }
      ]
    },
    {
      "cell_type": "code",
      "source": [
        "if True:\n",
        "  zip_ref = zipfile.ZipFile('/content/drive/MyDrive/FGData.zip', 'r')\n",
        "  zip_ref.extractall()\n"
      ],
      "metadata": {
        "id": "7NqJPBtBdKAE"
      },
      "execution_count": null,
      "outputs": []
    },
    {
      "cell_type": "code",
      "source": [],
      "metadata": {
        "id": "oiHLMY5Gfbaa"
      },
      "execution_count": null,
      "outputs": []
    },
    {
      "cell_type": "code",
      "source": [
        "# for item in os.listdir('/content/drive/MyDrive/FGData.zip'):\n",
        "#     if item.endswith('.zip'):\n",
        "#         zip_ref = zipfile.ZipFile(\"./trial/\" + item, 'r')\n",
        "#         print('Extracting ' + item + ' ...')\n",
        "#         zip_ref.extractall('trial')\n",
        "#         zip_ref.close()\n",
        "#         # os.remove(\"./trial/\" + item)\n",
        "# print(\"All files extracted\")"
      ],
      "metadata": {
        "id": "yCGCTPxPfPIt"
      },
      "execution_count": null,
      "outputs": []
    },
    {
      "cell_type": "code",
      "execution_count": null,
      "metadata": {
        "id": "q3MVHkEZPDqj"
      },
      "outputs": [],
      "source": [
        "features = 2048\n",
        "fmap_size = 7\n",
        "\n",
        "class BCNN(nn.Module):\n",
        "\n",
        "    def __init__(self, fine_tune=False):\n",
        "\n",
        "        super(BCNN, self).__init__()\n",
        "\n",
        "        resnet = models.resnet50(pretrained=True)\n",
        "\n",
        "        # freezing parameters\n",
        "        if not fine_tune:\n",
        "\n",
        "            for param in resnet.parameters():\n",
        "                param.requires_grad = False\n",
        "        else:\n",
        "\n",
        "            for param in resnet.parameters():\n",
        "                param.requires_grad = True\n",
        "\n",
        "        layers = list(resnet.children())[:-2]\n",
        "        self.features = nn.Sequential(*layers)\n",
        "\n",
        "        self.fc = nn.Linear(features ** 2, 2).cuda()\n",
        "        self.dropout = nn.Dropout(0.5)\n",
        "\n",
        "        # Initialize the fc layers.\n",
        "        nn.init.xavier_normal_(self.fc.weight.data)\n",
        "\n",
        "        if self.fc.bias is not None:\n",
        "            torch.nn.init.constant_(self.fc.bias.data, val=0)\n",
        "\n",
        "    def forward(self, x):\n",
        "\n",
        "        ## X: bs, 3, 256, 256\n",
        "        ## N = bs\n",
        "        N = x.size()[0]\n",
        "\n",
        "        ## x : bs, 1024, 14, 14\n",
        "        x = self.features(x)\n",
        "\n",
        "        # bs, (1024 * 196) matmul (196 * 1024)\n",
        "        x = x.view(N, features, fmap_size ** 2)\n",
        "        x = self.dropout(x)\n",
        "\n",
        "        # Batch matrix multiplication\n",
        "        x = torch.bmm(x, torch.transpose(x, 1, 2))/ (fmap_size ** 2)\n",
        "        x = x.view(N, features ** 2)\n",
        "        x = torch.sqrt(x + 1e-5)\n",
        "        x = F.normalize(x)\n",
        "\n",
        "        x = self.dropout(x)\n",
        "        x = self.fc(x)\n",
        "\n",
        "        return x"
      ]
    },
    {
      "cell_type": "code",
      "execution_count": null,
      "metadata": {
        "id": "mzKKbnxjPDqk"
      },
      "outputs": [],
      "source": [
        "def save_checkpoint(model, optimizer, train_loss, test_loss, train_acc, valid_acc, epoch, batch_idx, checkpoint_path):\n",
        "    checkpoint = {\n",
        "        'model_state_dict': model.state_dict(),\n",
        "        'optimizer_state_dict': optimizer.state_dict(),\n",
        "        'train_loss': train_loss,\n",
        "        'test_loss': test_loss,\n",
        "        'train_acc': train_acc,\n",
        "        'valid_acc': valid_acc,\n",
        "        'epoch': epoch,\n",
        "        'batch_idx': batch_idx\n",
        "    }\n",
        "    torch.save(checkpoint, checkpoint_path)"
      ]
    },
    {
      "cell_type": "code",
      "execution_count": null,
      "metadata": {
        "id": "OXyzEWvIPDqk"
      },
      "outputs": [],
      "source": [
        "def train(model, criterion, optimizer, train_loader, val_loader, save_location, checkpoint_location, early_stop=4, n_epochs=10, print_every=1):\n",
        "    #Initializing  variables\n",
        "    valid_acc_max = 0\n",
        "    stop_count = 0\n",
        "    model.epochs = 0\n",
        "\n",
        "    train_acc_list = []\n",
        "    val_acc_list = []\n",
        "\n",
        "    train_loss_list = []\n",
        "    val_loss_list = []\n",
        "\n",
        "\n",
        "\n",
        "    #Loop starts here\n",
        "    for epoch in tqdm(range(n_epochs)):\n",
        "\n",
        "        train_loss = 0\n",
        "        valid_loss = 0\n",
        "\n",
        "        train_acc = 0\n",
        "        valid_acc = 0\n",
        "\n",
        "        model.train()\n",
        "\n",
        "        ### batch control\n",
        "        batch_num = 0\n",
        "\n",
        "        for data, label in train_loader:\n",
        "            batch_num += 1\n",
        "            data, label = data.cuda(), label.cuda()\n",
        "            output = model(data)\n",
        "\n",
        "            loss = criterion(output, label)\n",
        "            optimizer.zero_grad()\n",
        "\n",
        "            loss.backward()\n",
        "            optimizer.step()\n",
        "\n",
        "            # Track train loss by multiplying average loss by number of examples in batch\n",
        "            train_loss += loss.item() * data.size(0)\n",
        "\n",
        "\n",
        "            # Calculate accuracy by finding max log probability\n",
        "            # first output gives the max value in the row(not what we want), second output gives index of the highest val\n",
        "            _, pred = torch.max(output, dim=1)\n",
        "\n",
        "            # using the index of the predicted outcome above, torch.eq() will check prediction index against label index to see if prediction is correct(returns 1 if correct, 0 if not)\n",
        "            correct_tensor = pred.eq(label.data.view_as(pred))\n",
        "\n",
        "            #tensor must be float to calc average\n",
        "            accuracy = torch.mean(correct_tensor.type(torch.FloatTensor))\n",
        "            train_acc += accuracy.item() * data.size(0)\n",
        "\n",
        "            if batch_num%10 == 0:\n",
        "                print(f'Epoch: {epoch}\\t{100 * (batch_num + 1) / len(train_loader):.2f}% complete.')\n",
        "\n",
        "        model.epochs += 1\n",
        "\n",
        "        if val_loader is not None:\n",
        "            with torch.no_grad():\n",
        "\n",
        "                model.eval()\n",
        "\n",
        "                for data, label in val_loader:\n",
        "\n",
        "                    data, label = data.cuda(), label.cuda()\n",
        "                    output = model(data)\n",
        "                    loss = criterion(output, label)\n",
        "                    valid_loss += loss.item() * data.size(0)\n",
        "\n",
        "                    _, pred = torch.max(output, dim=1)\n",
        "                    correct_tensor = pred.eq(label.data.view_as(pred))\n",
        "                    accuracy = torch.mean(correct_tensor.type(torch.FloatTensor))\n",
        "                    valid_acc += accuracy.item() * data.size(0)\n",
        "\n",
        "            valid_loss = valid_loss / len(val_loader.dataset)\n",
        "            valid_acc = valid_acc / len(val_loader.dataset)\n",
        "\n",
        "        train_loss = train_loss / len(train_loader.dataset)\n",
        "        train_acc = train_acc / len(train_loader.dataset)\n",
        "\n",
        "        train_acc_list.append(train_acc)\n",
        "        train_loss_list.append(train_loss)\n",
        "        val_acc_list.append(valid_acc)\n",
        "        val_loss_list.append(valid_loss)\n",
        "\n",
        "\n",
        "\n",
        "        save_checkpoint(model, optimizer, train_loss_list, val_loss_list, train_acc_list, val_acc_list, epoch, batch_num, checkpoint_location)\n",
        "\n",
        "\n",
        "        if (epoch + 1) % print_every == 0:\n",
        "\n",
        "            print(f'\\nEpoch: {epoch} \\tTraining Loss: {train_loss:.4f} \\tValidation Loss: {valid_loss:.4f}')\n",
        "            print(f'\\t\\tTraining Accuracy: {100 * train_acc:.2f}%\\t Validation Accuracy: {100 * valid_acc:.2f}%')\n",
        "\n",
        "            if valid_acc > valid_acc_max:\n",
        "\n",
        "                torch.save({\n",
        "                    'state_dict': model.state_dict()\n",
        "                }, save_location)\n",
        "\n",
        "                stop_count = 0\n",
        "                valid_acc_max = valid_acc\n",
        "                best_epoch = epoch\n",
        "\n",
        "            else:\n",
        "\n",
        "                stop_count += 1\n",
        "\n",
        "                # Below is the case where we handle the early stop case\n",
        "                if stop_count >= early_stop:\n",
        "\n",
        "                    print(f'\\nEarly Stopping Total epochs: {epoch}. Best epoch: {best_epoch} with best val acc: {100 * valid_acc_max:.2f}%')\n",
        "                    model.load_state_dict(torch.load(save_location)['state_dict'])\n",
        "                    model.optimizer = optimizer\n",
        "                    return model\n",
        "\n",
        "    model.optimizer = optimizer\n",
        "\n",
        "    return model"
      ]
    },
    {
      "cell_type": "markdown",
      "metadata": {
        "id": "qX0WW17rPDql"
      },
      "source": [
        "# Loading the datasets from the files"
      ]
    },
    {
      "cell_type": "code",
      "execution_count": null,
      "metadata": {
        "id": "S82Lr5RIPDqm"
      },
      "outputs": [],
      "source": [
        "FGData = datasets.ImageFolder(root = './FGData/', transform = transforms.Compose([transforms.Resize((224,224)), transforms.ToTensor()]))"
      ]
    },
    {
      "cell_type": "code",
      "execution_count": null,
      "metadata": {
        "id": "4_NBA_W9PDqn"
      },
      "outputs": [],
      "source": [
        "# Splitting the data into train and test\n",
        "TRAIN_PCT = 0.8\n",
        "train_size = int(TRAIN_PCT * len(FGData))\n",
        "test_size = len(FGData) - train_size\n",
        "train_dataset, test_dataset = torch.utils.data.random_split(FGData, [train_size, test_size])"
      ]
    },
    {
      "cell_type": "code",
      "execution_count": null,
      "metadata": {
        "id": "Gsrwtq6lPDqn"
      },
      "outputs": [],
      "source": [
        "train_loader = torch.utils.data.DataLoader(train_dataset, batch_size=128, shuffle=True)\n",
        "test_loader = torch.utils.data.DataLoader(test_dataset, batch_size=128, shuffle=True)"
      ]
    },
    {
      "cell_type": "code",
      "execution_count": null,
      "metadata": {
        "id": "h2K9QRUMPDqn",
        "colab": {
          "base_uri": "https://localhost:8080/"
        },
        "outputId": "34b7ccbd-b096-43b7-ff2c-ce82c1dbdaed"
      },
      "outputs": [
        {
          "output_type": "stream",
          "name": "stderr",
          "text": [
            "/usr/local/lib/python3.10/dist-packages/torchvision/models/_utils.py:208: UserWarning: The parameter 'pretrained' is deprecated since 0.13 and may be removed in the future, please use 'weights' instead.\n",
            "  warnings.warn(\n",
            "/usr/local/lib/python3.10/dist-packages/torchvision/models/_utils.py:223: UserWarning: Arguments other than a weight enum or `None` for 'weights' are deprecated since 0.13 and may be removed in the future. The current behavior is equivalent to passing `weights=ResNet50_Weights.IMAGENET1K_V1`. You can also use `weights=ResNet50_Weights.DEFAULT` to get the most up-to-date weights.\n",
            "  warnings.warn(msg)\n",
            "Downloading: \"https://download.pytorch.org/models/resnet50-0676ba61.pth\" to /root/.cache/torch/hub/checkpoints/resnet50-0676ba61.pth\n",
            "100%|██████████| 97.8M/97.8M [00:00<00:00, 327MB/s]\n"
          ]
        }
      ],
      "source": [
        "# Creating the model\n",
        "model = BCNN().cuda()"
      ]
    },
    {
      "cell_type": "code",
      "execution_count": null,
      "metadata": {
        "id": "9dx3lqjLPDqn"
      },
      "outputs": [],
      "source": [
        "# Defining the loss function and optimizer\n",
        "criterion = nn.CrossEntropyLoss()\n",
        "optimizer = torch.optim.Adam(model.parameters(), lr=0.001)\n"
      ]
    },
    {
      "cell_type": "code",
      "execution_count": null,
      "metadata": {
        "id": "tL8ezCtGPDqo",
        "outputId": "8204c0dc-f4e1-437d-a423-343aa93626c4",
        "colab": {
          "base_uri": "https://localhost:8080/",
          "height": 1000,
          "referenced_widgets": [
            "01ed2e400212428eb7a169d62f1d0c94",
            "b17b0e5705844c1ab2e94804843262ec",
            "42113064dda9454a8cc4de48edd203b0",
            "d67d5a2bfd804b4a84e2edc240d38607",
            "b96be029a0084b06984443fde4bcf54c",
            "84a9a1b31b184e7391b37078e4c76edd",
            "049d56af1ef34641bbb5e3c679db3707",
            "2165285d0bb84316be52aacfc7baf239",
            "01f5e46b567947b5913ed8d686ec0257",
            "51637df292294b40b1ae6eb28d45cba5",
            "ee18ddc315e04f33bfec17328aef5bb8"
          ]
        }
      },
      "outputs": [
        {
          "output_type": "display_data",
          "data": {
            "text/plain": [
              "  0%|          | 0/10 [00:00<?, ?it/s]"
            ],
            "application/vnd.jupyter.widget-view+json": {
              "version_major": 2,
              "version_minor": 0,
              "model_id": "01ed2e400212428eb7a169d62f1d0c94"
            }
          },
          "metadata": {}
        },
        {
          "output_type": "stream",
          "name": "stdout",
          "text": [
            "Epoch: 0\t15.94% complete.\n",
            "Epoch: 0\t30.43% complete.\n",
            "Epoch: 0\t44.93% complete.\n",
            "Epoch: 0\t59.42% complete.\n",
            "Epoch: 0\t73.91% complete.\n",
            "Epoch: 0\t88.41% complete.\n",
            "\n",
            "Epoch: 0 \tTraining Loss: 0.6362 \tValidation Loss: 0.5955\n",
            "\t\tTraining Accuracy: 63.00%\t Validation Accuracy: 66.27%\n",
            "Epoch: 1\t15.94% complete.\n",
            "Epoch: 1\t30.43% complete.\n",
            "Epoch: 1\t44.93% complete.\n",
            "Epoch: 1\t59.42% complete.\n",
            "Epoch: 1\t73.91% complete.\n",
            "Epoch: 1\t88.41% complete.\n",
            "\n",
            "Epoch: 1 \tTraining Loss: 0.5867 \tValidation Loss: 0.5847\n",
            "\t\tTraining Accuracy: 67.55%\t Validation Accuracy: 67.55%\n",
            "Epoch: 2\t15.94% complete.\n",
            "Epoch: 2\t30.43% complete.\n",
            "Epoch: 2\t44.93% complete.\n",
            "Epoch: 2\t59.42% complete.\n",
            "Epoch: 2\t73.91% complete.\n",
            "Epoch: 2\t88.41% complete.\n",
            "\n",
            "Epoch: 2 \tTraining Loss: 0.5639 \tValidation Loss: 0.5968\n",
            "\t\tTraining Accuracy: 69.02%\t Validation Accuracy: 66.68%\n",
            "Epoch: 3\t15.94% complete.\n",
            "Epoch: 3\t30.43% complete.\n",
            "Epoch: 3\t44.93% complete.\n",
            "Epoch: 3\t59.42% complete.\n",
            "Epoch: 3\t73.91% complete.\n",
            "Epoch: 3\t88.41% complete.\n",
            "\n",
            "Epoch: 3 \tTraining Loss: 0.5443 \tValidation Loss: 0.5528\n",
            "\t\tTraining Accuracy: 70.91%\t Validation Accuracy: 70.00%\n",
            "Epoch: 4\t15.94% complete.\n",
            "Epoch: 4\t30.43% complete.\n",
            "Epoch: 4\t44.93% complete.\n",
            "Epoch: 4\t59.42% complete.\n",
            "Epoch: 4\t73.91% complete.\n",
            "Epoch: 4\t88.41% complete.\n",
            "\n",
            "Epoch: 4 \tTraining Loss: 0.5446 \tValidation Loss: 0.5513\n",
            "\t\tTraining Accuracy: 70.99%\t Validation Accuracy: 70.59%\n",
            "Epoch: 5\t15.94% complete.\n",
            "Epoch: 5\t30.43% complete.\n",
            "Epoch: 5\t44.93% complete.\n",
            "Epoch: 5\t59.42% complete.\n",
            "Epoch: 5\t73.91% complete.\n",
            "Epoch: 5\t88.41% complete.\n",
            "\n",
            "Epoch: 5 \tTraining Loss: 0.5353 \tValidation Loss: 0.5616\n",
            "\t\tTraining Accuracy: 71.32%\t Validation Accuracy: 69.50%\n",
            "Epoch: 6\t15.94% complete.\n",
            "Epoch: 6\t30.43% complete.\n",
            "Epoch: 6\t44.93% complete.\n",
            "Epoch: 6\t59.42% complete.\n",
            "Epoch: 6\t73.91% complete.\n",
            "Epoch: 6\t88.41% complete.\n",
            "\n",
            "Epoch: 6 \tTraining Loss: 0.5309 \tValidation Loss: 0.5602\n",
            "\t\tTraining Accuracy: 72.14%\t Validation Accuracy: 69.41%\n",
            "Epoch: 7\t15.94% complete.\n",
            "Epoch: 7\t30.43% complete.\n",
            "Epoch: 7\t44.93% complete.\n",
            "Epoch: 7\t59.42% complete.\n",
            "Epoch: 7\t73.91% complete.\n",
            "Epoch: 7\t88.41% complete.\n",
            "\n",
            "Epoch: 7 \tTraining Loss: 0.5138 \tValidation Loss: 0.5549\n",
            "\t\tTraining Accuracy: 72.78%\t Validation Accuracy: 69.95%\n",
            "Epoch: 8\t15.94% complete.\n",
            "Epoch: 8\t30.43% complete.\n",
            "Epoch: 8\t44.93% complete.\n",
            "Epoch: 8\t59.42% complete.\n",
            "Epoch: 8\t73.91% complete.\n",
            "Epoch: 8\t88.41% complete.\n",
            "\n",
            "Epoch: 8 \tTraining Loss: 0.5057 \tValidation Loss: 0.5376\n",
            "\t\tTraining Accuracy: 73.45%\t Validation Accuracy: 71.68%\n",
            "Epoch: 9\t15.94% complete.\n",
            "Epoch: 9\t30.43% complete.\n",
            "Epoch: 9\t44.93% complete.\n",
            "Epoch: 9\t59.42% complete.\n",
            "Epoch: 9\t73.91% complete.\n",
            "Epoch: 9\t88.41% complete.\n",
            "\n",
            "Epoch: 9 \tTraining Loss: 0.5013 \tValidation Loss: 0.5399\n",
            "\t\tTraining Accuracy: 74.03%\t Validation Accuracy: 70.95%\n"
          ]
        }
      ],
      "source": [
        "# Training the model\n",
        "model = train(model, criterion, optimizer, train_loader, test_loader,'best_bs128.pth', 'checkpoint_bs128.pth', n_epochs=10)"
      ]
    },
    {
      "cell_type": "code",
      "execution_count": null,
      "metadata": {
        "id": "xx7qRKckPDqo"
      },
      "outputs": [],
      "source": [
        "chkpt = torch.load('./best_bs128.pth')"
      ]
    },
    {
      "cell_type": "code",
      "source": [
        "chkpt.keys()"
      ],
      "metadata": {
        "colab": {
          "base_uri": "https://localhost:8080/"
        },
        "id": "GVgNuV3FbD9T",
        "outputId": "ccc9fdcc-4263-4708-c23d-cfe652a071a5"
      },
      "execution_count": null,
      "outputs": [
        {
          "output_type": "execute_result",
          "data": {
            "text/plain": [
              "dict_keys(['state_dict'])"
            ]
          },
          "metadata": {},
          "execution_count": 17
        }
      ]
    },
    {
      "cell_type": "code",
      "source": [
        "model.load_state_dict(chkpt['state_dict'])"
      ],
      "metadata": {
        "colab": {
          "base_uri": "https://localhost:8080/"
        },
        "id": "1fkEpaMjbF59",
        "outputId": "71a1aaa1-9f45-4343-a76a-4536036d4946"
      },
      "execution_count": null,
      "outputs": [
        {
          "output_type": "execute_result",
          "data": {
            "text/plain": [
              "<All keys matched successfully>"
            ]
          },
          "metadata": {},
          "execution_count": 18
        }
      ]
    },
    {
      "cell_type": "code",
      "source": [
        "model = train(model, criterion, optimizer, train_loader, test_loader,'best_bs128_10.pth', 'checkpoint_bs128_10.pth', n_epochs=10)"
      ],
      "metadata": {
        "colab": {
          "base_uri": "https://localhost:8080/",
          "height": 1000,
          "referenced_widgets": [
            "ed916eb5bf6d4d6399bbd261859cf90b",
            "30f86113cb0b4cf88021ac77f2dfaf16",
            "7730484d5d18456a9232b57ed6a50976",
            "eeee2e96d4614722a2ce9648657ddaa9",
            "f21b80dab2504a47be008357a175ad1c",
            "7e86e519a30e4023a634329675dece87",
            "29fc9611efd24a66897291fe13cc9c9f",
            "db4317a9c7dd454da85d28d6e2882e59",
            "11a2c63d5a3d4eb1860b8ce74f58b1a6",
            "e3d044383e20496cafa5ad84a06b050a",
            "6e2b58616f8243809fd32d6d1e055cdd"
          ]
        },
        "id": "NJ0Id7YSbRNu",
        "outputId": "46dccafe-9a3d-4f4d-fb54-3926a6aedc8e"
      },
      "execution_count": null,
      "outputs": [
        {
          "output_type": "display_data",
          "data": {
            "text/plain": [
              "  0%|          | 0/10 [00:00<?, ?it/s]"
            ],
            "application/vnd.jupyter.widget-view+json": {
              "version_major": 2,
              "version_minor": 0,
              "model_id": "ed916eb5bf6d4d6399bbd261859cf90b"
            }
          },
          "metadata": {}
        },
        {
          "output_type": "stream",
          "name": "stdout",
          "text": [
            "Epoch: 0\t15.94% complete.\n",
            "Epoch: 0\t30.43% complete.\n",
            "Epoch: 0\t44.93% complete.\n",
            "Epoch: 0\t59.42% complete.\n",
            "Epoch: 0\t73.91% complete.\n",
            "Epoch: 0\t88.41% complete.\n",
            "\n",
            "Epoch: 0 \tTraining Loss: 0.5028 \tValidation Loss: 0.5343\n",
            "\t\tTraining Accuracy: 74.14%\t Validation Accuracy: 71.77%\n",
            "Epoch: 1\t15.94% complete.\n",
            "Epoch: 1\t30.43% complete.\n",
            "Epoch: 1\t44.93% complete.\n",
            "Epoch: 1\t59.42% complete.\n",
            "Epoch: 1\t73.91% complete.\n",
            "Epoch: 1\t88.41% complete.\n",
            "\n",
            "Epoch: 1 \tTraining Loss: 0.5281 \tValidation Loss: 0.5521\n",
            "\t\tTraining Accuracy: 71.92%\t Validation Accuracy: 70.95%\n",
            "Epoch: 2\t15.94% complete.\n",
            "Epoch: 2\t30.43% complete.\n",
            "Epoch: 2\t44.93% complete.\n",
            "Epoch: 2\t59.42% complete.\n",
            "Epoch: 2\t73.91% complete.\n",
            "Epoch: 2\t88.41% complete.\n",
            "\n",
            "Epoch: 2 \tTraining Loss: 0.4944 \tValidation Loss: 0.5776\n",
            "\t\tTraining Accuracy: 74.14%\t Validation Accuracy: 68.64%\n",
            "Epoch: 3\t15.94% complete.\n",
            "Epoch: 3\t30.43% complete.\n",
            "Epoch: 3\t44.93% complete.\n",
            "Epoch: 3\t59.42% complete.\n",
            "Epoch: 3\t73.91% complete.\n",
            "Epoch: 3\t88.41% complete.\n",
            "\n",
            "Epoch: 3 \tTraining Loss: 0.4906 \tValidation Loss: 0.5784\n",
            "\t\tTraining Accuracy: 75.35%\t Validation Accuracy: 68.59%\n",
            "Epoch: 4\t15.94% complete.\n",
            "Epoch: 4\t30.43% complete.\n",
            "Epoch: 4\t44.93% complete.\n",
            "Epoch: 4\t59.42% complete.\n",
            "Epoch: 4\t73.91% complete.\n",
            "Epoch: 4\t88.41% complete.\n",
            "\n",
            "Epoch: 4 \tTraining Loss: 0.4873 \tValidation Loss: 0.5294\n",
            "\t\tTraining Accuracy: 75.15%\t Validation Accuracy: 72.36%\n",
            "Epoch: 5\t15.94% complete.\n",
            "Epoch: 5\t30.43% complete.\n",
            "Epoch: 5\t44.93% complete.\n",
            "Epoch: 5\t59.42% complete.\n",
            "Epoch: 5\t73.91% complete.\n",
            "Epoch: 5\t88.41% complete.\n",
            "\n",
            "Epoch: 5 \tTraining Loss: 0.4878 \tValidation Loss: 0.5260\n",
            "\t\tTraining Accuracy: 75.02%\t Validation Accuracy: 72.68%\n",
            "Epoch: 6\t15.94% complete.\n",
            "Epoch: 6\t30.43% complete.\n",
            "Epoch: 6\t44.93% complete.\n",
            "Epoch: 6\t59.42% complete.\n",
            "Epoch: 6\t73.91% complete.\n",
            "Epoch: 6\t88.41% complete.\n",
            "\n",
            "Epoch: 6 \tTraining Loss: 0.4783 \tValidation Loss: 0.5249\n",
            "\t\tTraining Accuracy: 75.59%\t Validation Accuracy: 72.59%\n",
            "Epoch: 7\t15.94% complete.\n",
            "Epoch: 7\t30.43% complete.\n",
            "Epoch: 7\t44.93% complete.\n",
            "Epoch: 7\t59.42% complete.\n",
            "Epoch: 7\t73.91% complete.\n",
            "Epoch: 7\t88.41% complete.\n",
            "\n",
            "Epoch: 7 \tTraining Loss: 0.4851 \tValidation Loss: 0.5347\n",
            "\t\tTraining Accuracy: 75.06%\t Validation Accuracy: 72.36%\n",
            "Epoch: 8\t15.94% complete.\n",
            "Epoch: 8\t30.43% complete.\n",
            "Epoch: 8\t44.93% complete.\n",
            "Epoch: 8\t59.42% complete.\n",
            "Epoch: 8\t73.91% complete.\n",
            "Epoch: 8\t88.41% complete.\n",
            "\n",
            "Epoch: 8 \tTraining Loss: 0.4774 \tValidation Loss: 0.5234\n",
            "\t\tTraining Accuracy: 75.90%\t Validation Accuracy: 72.77%\n",
            "Epoch: 9\t15.94% complete.\n",
            "Epoch: 9\t30.43% complete.\n",
            "Epoch: 9\t44.93% complete.\n",
            "Epoch: 9\t59.42% complete.\n",
            "Epoch: 9\t73.91% complete.\n",
            "Epoch: 9\t88.41% complete.\n",
            "\n",
            "Epoch: 9 \tTraining Loss: 0.4824 \tValidation Loss: 0.5316\n",
            "\t\tTraining Accuracy: 75.34%\t Validation Accuracy: 72.45%\n"
          ]
        }
      ]
    },
    {
      "cell_type": "code",
      "source": [
        "from google.colab import files"
      ],
      "metadata": {
        "id": "0CutYGDfbZoX"
      },
      "execution_count": null,
      "outputs": []
    },
    {
      "cell_type": "code",
      "source": [
        "files.download('./best_bs128_10.pth')"
      ],
      "metadata": {
        "colab": {
          "base_uri": "https://localhost:8080/",
          "height": 34
        },
        "id": "N9-Jg34BhUMB",
        "outputId": "771bba9c-85cc-4bc2-f263-b58487df97c1"
      },
      "execution_count": null,
      "outputs": [
        {
          "output_type": "display_data",
          "data": {
            "text/plain": [
              "<IPython.core.display.Javascript object>"
            ],
            "application/javascript": [
              "\n",
              "    async function download(id, filename, size) {\n",
              "      if (!google.colab.kernel.accessAllowed) {\n",
              "        return;\n",
              "      }\n",
              "      const div = document.createElement('div');\n",
              "      const label = document.createElement('label');\n",
              "      label.textContent = `Downloading \"${filename}\": `;\n",
              "      div.appendChild(label);\n",
              "      const progress = document.createElement('progress');\n",
              "      progress.max = size;\n",
              "      div.appendChild(progress);\n",
              "      document.body.appendChild(div);\n",
              "\n",
              "      const buffers = [];\n",
              "      let downloaded = 0;\n",
              "\n",
              "      const channel = await google.colab.kernel.comms.open(id);\n",
              "      // Send a message to notify the kernel that we're ready.\n",
              "      channel.send({})\n",
              "\n",
              "      for await (const message of channel.messages) {\n",
              "        // Send a message to notify the kernel that we're ready.\n",
              "        channel.send({})\n",
              "        if (message.buffers) {\n",
              "          for (const buffer of message.buffers) {\n",
              "            buffers.push(buffer);\n",
              "            downloaded += buffer.byteLength;\n",
              "            progress.value = downloaded;\n",
              "          }\n",
              "        }\n",
              "      }\n",
              "      const blob = new Blob(buffers, {type: 'application/binary'});\n",
              "      const a = document.createElement('a');\n",
              "      a.href = window.URL.createObjectURL(blob);\n",
              "      a.download = filename;\n",
              "      div.appendChild(a);\n",
              "      a.click();\n",
              "      div.remove();\n",
              "    }\n",
              "  "
            ]
          },
          "metadata": {}
        },
        {
          "output_type": "display_data",
          "data": {
            "text/plain": [
              "<IPython.core.display.Javascript object>"
            ],
            "application/javascript": [
              "download(\"download_74fd10b5-eea0-442a-a0b8-c8a0035de5bd\", \"best_bs128_10.pth\", 127907597)"
            ]
          },
          "metadata": {}
        }
      ]
    },
    {
      "cell_type": "code",
      "source": [],
      "metadata": {
        "id": "mhk8FrcZhfCI"
      },
      "execution_count": null,
      "outputs": []
    }
  ],
  "metadata": {
    "kernelspec": {
      "display_name": "Python 3",
      "name": "python3"
    },
    "language_info": {
      "codemirror_mode": {
        "name": "ipython",
        "version": 3
      },
      "file_extension": ".py",
      "mimetype": "text/x-python",
      "name": "python",
      "nbconvert_exporter": "python",
      "pygments_lexer": "ipython3",
      "version": "3.9.7"
    },
    "orig_nbformat": 4,
    "colab": {
      "provenance": [],
      "machine_shape": "hm",
      "gpuType": "V100"
    },
    "accelerator": "GPU",
    "widgets": {
      "application/vnd.jupyter.widget-state+json": {
        "01ed2e400212428eb7a169d62f1d0c94": {
          "model_module": "@jupyter-widgets/controls",
          "model_name": "HBoxModel",
          "model_module_version": "1.5.0",
          "state": {
            "_dom_classes": [],
            "_model_module": "@jupyter-widgets/controls",
            "_model_module_version": "1.5.0",
            "_model_name": "HBoxModel",
            "_view_count": null,
            "_view_module": "@jupyter-widgets/controls",
            "_view_module_version": "1.5.0",
            "_view_name": "HBoxView",
            "box_style": "",
            "children": [
              "IPY_MODEL_b17b0e5705844c1ab2e94804843262ec",
              "IPY_MODEL_42113064dda9454a8cc4de48edd203b0",
              "IPY_MODEL_d67d5a2bfd804b4a84e2edc240d38607"
            ],
            "layout": "IPY_MODEL_b96be029a0084b06984443fde4bcf54c"
          }
        },
        "b17b0e5705844c1ab2e94804843262ec": {
          "model_module": "@jupyter-widgets/controls",
          "model_name": "HTMLModel",
          "model_module_version": "1.5.0",
          "state": {
            "_dom_classes": [],
            "_model_module": "@jupyter-widgets/controls",
            "_model_module_version": "1.5.0",
            "_model_name": "HTMLModel",
            "_view_count": null,
            "_view_module": "@jupyter-widgets/controls",
            "_view_module_version": "1.5.0",
            "_view_name": "HTMLView",
            "description": "",
            "description_tooltip": null,
            "layout": "IPY_MODEL_84a9a1b31b184e7391b37078e4c76edd",
            "placeholder": "​",
            "style": "IPY_MODEL_049d56af1ef34641bbb5e3c679db3707",
            "value": "100%"
          }
        },
        "42113064dda9454a8cc4de48edd203b0": {
          "model_module": "@jupyter-widgets/controls",
          "model_name": "FloatProgressModel",
          "model_module_version": "1.5.0",
          "state": {
            "_dom_classes": [],
            "_model_module": "@jupyter-widgets/controls",
            "_model_module_version": "1.5.0",
            "_model_name": "FloatProgressModel",
            "_view_count": null,
            "_view_module": "@jupyter-widgets/controls",
            "_view_module_version": "1.5.0",
            "_view_name": "ProgressView",
            "bar_style": "success",
            "description": "",
            "description_tooltip": null,
            "layout": "IPY_MODEL_2165285d0bb84316be52aacfc7baf239",
            "max": 10,
            "min": 0,
            "orientation": "horizontal",
            "style": "IPY_MODEL_01f5e46b567947b5913ed8d686ec0257",
            "value": 10
          }
        },
        "d67d5a2bfd804b4a84e2edc240d38607": {
          "model_module": "@jupyter-widgets/controls",
          "model_name": "HTMLModel",
          "model_module_version": "1.5.0",
          "state": {
            "_dom_classes": [],
            "_model_module": "@jupyter-widgets/controls",
            "_model_module_version": "1.5.0",
            "_model_name": "HTMLModel",
            "_view_count": null,
            "_view_module": "@jupyter-widgets/controls",
            "_view_module_version": "1.5.0",
            "_view_name": "HTMLView",
            "description": "",
            "description_tooltip": null,
            "layout": "IPY_MODEL_51637df292294b40b1ae6eb28d45cba5",
            "placeholder": "​",
            "style": "IPY_MODEL_ee18ddc315e04f33bfec17328aef5bb8",
            "value": " 10/10 [22:42&lt;00:00, 134.92s/it]"
          }
        },
        "b96be029a0084b06984443fde4bcf54c": {
          "model_module": "@jupyter-widgets/base",
          "model_name": "LayoutModel",
          "model_module_version": "1.2.0",
          "state": {
            "_model_module": "@jupyter-widgets/base",
            "_model_module_version": "1.2.0",
            "_model_name": "LayoutModel",
            "_view_count": null,
            "_view_module": "@jupyter-widgets/base",
            "_view_module_version": "1.2.0",
            "_view_name": "LayoutView",
            "align_content": null,
            "align_items": null,
            "align_self": null,
            "border": null,
            "bottom": null,
            "display": null,
            "flex": null,
            "flex_flow": null,
            "grid_area": null,
            "grid_auto_columns": null,
            "grid_auto_flow": null,
            "grid_auto_rows": null,
            "grid_column": null,
            "grid_gap": null,
            "grid_row": null,
            "grid_template_areas": null,
            "grid_template_columns": null,
            "grid_template_rows": null,
            "height": null,
            "justify_content": null,
            "justify_items": null,
            "left": null,
            "margin": null,
            "max_height": null,
            "max_width": null,
            "min_height": null,
            "min_width": null,
            "object_fit": null,
            "object_position": null,
            "order": null,
            "overflow": null,
            "overflow_x": null,
            "overflow_y": null,
            "padding": null,
            "right": null,
            "top": null,
            "visibility": null,
            "width": null
          }
        },
        "84a9a1b31b184e7391b37078e4c76edd": {
          "model_module": "@jupyter-widgets/base",
          "model_name": "LayoutModel",
          "model_module_version": "1.2.0",
          "state": {
            "_model_module": "@jupyter-widgets/base",
            "_model_module_version": "1.2.0",
            "_model_name": "LayoutModel",
            "_view_count": null,
            "_view_module": "@jupyter-widgets/base",
            "_view_module_version": "1.2.0",
            "_view_name": "LayoutView",
            "align_content": null,
            "align_items": null,
            "align_self": null,
            "border": null,
            "bottom": null,
            "display": null,
            "flex": null,
            "flex_flow": null,
            "grid_area": null,
            "grid_auto_columns": null,
            "grid_auto_flow": null,
            "grid_auto_rows": null,
            "grid_column": null,
            "grid_gap": null,
            "grid_row": null,
            "grid_template_areas": null,
            "grid_template_columns": null,
            "grid_template_rows": null,
            "height": null,
            "justify_content": null,
            "justify_items": null,
            "left": null,
            "margin": null,
            "max_height": null,
            "max_width": null,
            "min_height": null,
            "min_width": null,
            "object_fit": null,
            "object_position": null,
            "order": null,
            "overflow": null,
            "overflow_x": null,
            "overflow_y": null,
            "padding": null,
            "right": null,
            "top": null,
            "visibility": null,
            "width": null
          }
        },
        "049d56af1ef34641bbb5e3c679db3707": {
          "model_module": "@jupyter-widgets/controls",
          "model_name": "DescriptionStyleModel",
          "model_module_version": "1.5.0",
          "state": {
            "_model_module": "@jupyter-widgets/controls",
            "_model_module_version": "1.5.0",
            "_model_name": "DescriptionStyleModel",
            "_view_count": null,
            "_view_module": "@jupyter-widgets/base",
            "_view_module_version": "1.2.0",
            "_view_name": "StyleView",
            "description_width": ""
          }
        },
        "2165285d0bb84316be52aacfc7baf239": {
          "model_module": "@jupyter-widgets/base",
          "model_name": "LayoutModel",
          "model_module_version": "1.2.0",
          "state": {
            "_model_module": "@jupyter-widgets/base",
            "_model_module_version": "1.2.0",
            "_model_name": "LayoutModel",
            "_view_count": null,
            "_view_module": "@jupyter-widgets/base",
            "_view_module_version": "1.2.0",
            "_view_name": "LayoutView",
            "align_content": null,
            "align_items": null,
            "align_self": null,
            "border": null,
            "bottom": null,
            "display": null,
            "flex": null,
            "flex_flow": null,
            "grid_area": null,
            "grid_auto_columns": null,
            "grid_auto_flow": null,
            "grid_auto_rows": null,
            "grid_column": null,
            "grid_gap": null,
            "grid_row": null,
            "grid_template_areas": null,
            "grid_template_columns": null,
            "grid_template_rows": null,
            "height": null,
            "justify_content": null,
            "justify_items": null,
            "left": null,
            "margin": null,
            "max_height": null,
            "max_width": null,
            "min_height": null,
            "min_width": null,
            "object_fit": null,
            "object_position": null,
            "order": null,
            "overflow": null,
            "overflow_x": null,
            "overflow_y": null,
            "padding": null,
            "right": null,
            "top": null,
            "visibility": null,
            "width": null
          }
        },
        "01f5e46b567947b5913ed8d686ec0257": {
          "model_module": "@jupyter-widgets/controls",
          "model_name": "ProgressStyleModel",
          "model_module_version": "1.5.0",
          "state": {
            "_model_module": "@jupyter-widgets/controls",
            "_model_module_version": "1.5.0",
            "_model_name": "ProgressStyleModel",
            "_view_count": null,
            "_view_module": "@jupyter-widgets/base",
            "_view_module_version": "1.2.0",
            "_view_name": "StyleView",
            "bar_color": null,
            "description_width": ""
          }
        },
        "51637df292294b40b1ae6eb28d45cba5": {
          "model_module": "@jupyter-widgets/base",
          "model_name": "LayoutModel",
          "model_module_version": "1.2.0",
          "state": {
            "_model_module": "@jupyter-widgets/base",
            "_model_module_version": "1.2.0",
            "_model_name": "LayoutModel",
            "_view_count": null,
            "_view_module": "@jupyter-widgets/base",
            "_view_module_version": "1.2.0",
            "_view_name": "LayoutView",
            "align_content": null,
            "align_items": null,
            "align_self": null,
            "border": null,
            "bottom": null,
            "display": null,
            "flex": null,
            "flex_flow": null,
            "grid_area": null,
            "grid_auto_columns": null,
            "grid_auto_flow": null,
            "grid_auto_rows": null,
            "grid_column": null,
            "grid_gap": null,
            "grid_row": null,
            "grid_template_areas": null,
            "grid_template_columns": null,
            "grid_template_rows": null,
            "height": null,
            "justify_content": null,
            "justify_items": null,
            "left": null,
            "margin": null,
            "max_height": null,
            "max_width": null,
            "min_height": null,
            "min_width": null,
            "object_fit": null,
            "object_position": null,
            "order": null,
            "overflow": null,
            "overflow_x": null,
            "overflow_y": null,
            "padding": null,
            "right": null,
            "top": null,
            "visibility": null,
            "width": null
          }
        },
        "ee18ddc315e04f33bfec17328aef5bb8": {
          "model_module": "@jupyter-widgets/controls",
          "model_name": "DescriptionStyleModel",
          "model_module_version": "1.5.0",
          "state": {
            "_model_module": "@jupyter-widgets/controls",
            "_model_module_version": "1.5.0",
            "_model_name": "DescriptionStyleModel",
            "_view_count": null,
            "_view_module": "@jupyter-widgets/base",
            "_view_module_version": "1.2.0",
            "_view_name": "StyleView",
            "description_width": ""
          }
        },
        "ed916eb5bf6d4d6399bbd261859cf90b": {
          "model_module": "@jupyter-widgets/controls",
          "model_name": "HBoxModel",
          "model_module_version": "1.5.0",
          "state": {
            "_dom_classes": [],
            "_model_module": "@jupyter-widgets/controls",
            "_model_module_version": "1.5.0",
            "_model_name": "HBoxModel",
            "_view_count": null,
            "_view_module": "@jupyter-widgets/controls",
            "_view_module_version": "1.5.0",
            "_view_name": "HBoxView",
            "box_style": "",
            "children": [
              "IPY_MODEL_30f86113cb0b4cf88021ac77f2dfaf16",
              "IPY_MODEL_7730484d5d18456a9232b57ed6a50976",
              "IPY_MODEL_eeee2e96d4614722a2ce9648657ddaa9"
            ],
            "layout": "IPY_MODEL_f21b80dab2504a47be008357a175ad1c"
          }
        },
        "30f86113cb0b4cf88021ac77f2dfaf16": {
          "model_module": "@jupyter-widgets/controls",
          "model_name": "HTMLModel",
          "model_module_version": "1.5.0",
          "state": {
            "_dom_classes": [],
            "_model_module": "@jupyter-widgets/controls",
            "_model_module_version": "1.5.0",
            "_model_name": "HTMLModel",
            "_view_count": null,
            "_view_module": "@jupyter-widgets/controls",
            "_view_module_version": "1.5.0",
            "_view_name": "HTMLView",
            "description": "",
            "description_tooltip": null,
            "layout": "IPY_MODEL_7e86e519a30e4023a634329675dece87",
            "placeholder": "​",
            "style": "IPY_MODEL_29fc9611efd24a66897291fe13cc9c9f",
            "value": "100%"
          }
        },
        "7730484d5d18456a9232b57ed6a50976": {
          "model_module": "@jupyter-widgets/controls",
          "model_name": "FloatProgressModel",
          "model_module_version": "1.5.0",
          "state": {
            "_dom_classes": [],
            "_model_module": "@jupyter-widgets/controls",
            "_model_module_version": "1.5.0",
            "_model_name": "FloatProgressModel",
            "_view_count": null,
            "_view_module": "@jupyter-widgets/controls",
            "_view_module_version": "1.5.0",
            "_view_name": "ProgressView",
            "bar_style": "success",
            "description": "",
            "description_tooltip": null,
            "layout": "IPY_MODEL_db4317a9c7dd454da85d28d6e2882e59",
            "max": 10,
            "min": 0,
            "orientation": "horizontal",
            "style": "IPY_MODEL_11a2c63d5a3d4eb1860b8ce74f58b1a6",
            "value": 10
          }
        },
        "eeee2e96d4614722a2ce9648657ddaa9": {
          "model_module": "@jupyter-widgets/controls",
          "model_name": "HTMLModel",
          "model_module_version": "1.5.0",
          "state": {
            "_dom_classes": [],
            "_model_module": "@jupyter-widgets/controls",
            "_model_module_version": "1.5.0",
            "_model_name": "HTMLModel",
            "_view_count": null,
            "_view_module": "@jupyter-widgets/controls",
            "_view_module_version": "1.5.0",
            "_view_name": "HTMLView",
            "description": "",
            "description_tooltip": null,
            "layout": "IPY_MODEL_e3d044383e20496cafa5ad84a06b050a",
            "placeholder": "​",
            "style": "IPY_MODEL_6e2b58616f8243809fd32d6d1e055cdd",
            "value": " 10/10 [22:18&lt;00:00, 133.94s/it]"
          }
        },
        "f21b80dab2504a47be008357a175ad1c": {
          "model_module": "@jupyter-widgets/base",
          "model_name": "LayoutModel",
          "model_module_version": "1.2.0",
          "state": {
            "_model_module": "@jupyter-widgets/base",
            "_model_module_version": "1.2.0",
            "_model_name": "LayoutModel",
            "_view_count": null,
            "_view_module": "@jupyter-widgets/base",
            "_view_module_version": "1.2.0",
            "_view_name": "LayoutView",
            "align_content": null,
            "align_items": null,
            "align_self": null,
            "border": null,
            "bottom": null,
            "display": null,
            "flex": null,
            "flex_flow": null,
            "grid_area": null,
            "grid_auto_columns": null,
            "grid_auto_flow": null,
            "grid_auto_rows": null,
            "grid_column": null,
            "grid_gap": null,
            "grid_row": null,
            "grid_template_areas": null,
            "grid_template_columns": null,
            "grid_template_rows": null,
            "height": null,
            "justify_content": null,
            "justify_items": null,
            "left": null,
            "margin": null,
            "max_height": null,
            "max_width": null,
            "min_height": null,
            "min_width": null,
            "object_fit": null,
            "object_position": null,
            "order": null,
            "overflow": null,
            "overflow_x": null,
            "overflow_y": null,
            "padding": null,
            "right": null,
            "top": null,
            "visibility": null,
            "width": null
          }
        },
        "7e86e519a30e4023a634329675dece87": {
          "model_module": "@jupyter-widgets/base",
          "model_name": "LayoutModel",
          "model_module_version": "1.2.0",
          "state": {
            "_model_module": "@jupyter-widgets/base",
            "_model_module_version": "1.2.0",
            "_model_name": "LayoutModel",
            "_view_count": null,
            "_view_module": "@jupyter-widgets/base",
            "_view_module_version": "1.2.0",
            "_view_name": "LayoutView",
            "align_content": null,
            "align_items": null,
            "align_self": null,
            "border": null,
            "bottom": null,
            "display": null,
            "flex": null,
            "flex_flow": null,
            "grid_area": null,
            "grid_auto_columns": null,
            "grid_auto_flow": null,
            "grid_auto_rows": null,
            "grid_column": null,
            "grid_gap": null,
            "grid_row": null,
            "grid_template_areas": null,
            "grid_template_columns": null,
            "grid_template_rows": null,
            "height": null,
            "justify_content": null,
            "justify_items": null,
            "left": null,
            "margin": null,
            "max_height": null,
            "max_width": null,
            "min_height": null,
            "min_width": null,
            "object_fit": null,
            "object_position": null,
            "order": null,
            "overflow": null,
            "overflow_x": null,
            "overflow_y": null,
            "padding": null,
            "right": null,
            "top": null,
            "visibility": null,
            "width": null
          }
        },
        "29fc9611efd24a66897291fe13cc9c9f": {
          "model_module": "@jupyter-widgets/controls",
          "model_name": "DescriptionStyleModel",
          "model_module_version": "1.5.0",
          "state": {
            "_model_module": "@jupyter-widgets/controls",
            "_model_module_version": "1.5.0",
            "_model_name": "DescriptionStyleModel",
            "_view_count": null,
            "_view_module": "@jupyter-widgets/base",
            "_view_module_version": "1.2.0",
            "_view_name": "StyleView",
            "description_width": ""
          }
        },
        "db4317a9c7dd454da85d28d6e2882e59": {
          "model_module": "@jupyter-widgets/base",
          "model_name": "LayoutModel",
          "model_module_version": "1.2.0",
          "state": {
            "_model_module": "@jupyter-widgets/base",
            "_model_module_version": "1.2.0",
            "_model_name": "LayoutModel",
            "_view_count": null,
            "_view_module": "@jupyter-widgets/base",
            "_view_module_version": "1.2.0",
            "_view_name": "LayoutView",
            "align_content": null,
            "align_items": null,
            "align_self": null,
            "border": null,
            "bottom": null,
            "display": null,
            "flex": null,
            "flex_flow": null,
            "grid_area": null,
            "grid_auto_columns": null,
            "grid_auto_flow": null,
            "grid_auto_rows": null,
            "grid_column": null,
            "grid_gap": null,
            "grid_row": null,
            "grid_template_areas": null,
            "grid_template_columns": null,
            "grid_template_rows": null,
            "height": null,
            "justify_content": null,
            "justify_items": null,
            "left": null,
            "margin": null,
            "max_height": null,
            "max_width": null,
            "min_height": null,
            "min_width": null,
            "object_fit": null,
            "object_position": null,
            "order": null,
            "overflow": null,
            "overflow_x": null,
            "overflow_y": null,
            "padding": null,
            "right": null,
            "top": null,
            "visibility": null,
            "width": null
          }
        },
        "11a2c63d5a3d4eb1860b8ce74f58b1a6": {
          "model_module": "@jupyter-widgets/controls",
          "model_name": "ProgressStyleModel",
          "model_module_version": "1.5.0",
          "state": {
            "_model_module": "@jupyter-widgets/controls",
            "_model_module_version": "1.5.0",
            "_model_name": "ProgressStyleModel",
            "_view_count": null,
            "_view_module": "@jupyter-widgets/base",
            "_view_module_version": "1.2.0",
            "_view_name": "StyleView",
            "bar_color": null,
            "description_width": ""
          }
        },
        "e3d044383e20496cafa5ad84a06b050a": {
          "model_module": "@jupyter-widgets/base",
          "model_name": "LayoutModel",
          "model_module_version": "1.2.0",
          "state": {
            "_model_module": "@jupyter-widgets/base",
            "_model_module_version": "1.2.0",
            "_model_name": "LayoutModel",
            "_view_count": null,
            "_view_module": "@jupyter-widgets/base",
            "_view_module_version": "1.2.0",
            "_view_name": "LayoutView",
            "align_content": null,
            "align_items": null,
            "align_self": null,
            "border": null,
            "bottom": null,
            "display": null,
            "flex": null,
            "flex_flow": null,
            "grid_area": null,
            "grid_auto_columns": null,
            "grid_auto_flow": null,
            "grid_auto_rows": null,
            "grid_column": null,
            "grid_gap": null,
            "grid_row": null,
            "grid_template_areas": null,
            "grid_template_columns": null,
            "grid_template_rows": null,
            "height": null,
            "justify_content": null,
            "justify_items": null,
            "left": null,
            "margin": null,
            "max_height": null,
            "max_width": null,
            "min_height": null,
            "min_width": null,
            "object_fit": null,
            "object_position": null,
            "order": null,
            "overflow": null,
            "overflow_x": null,
            "overflow_y": null,
            "padding": null,
            "right": null,
            "top": null,
            "visibility": null,
            "width": null
          }
        },
        "6e2b58616f8243809fd32d6d1e055cdd": {
          "model_module": "@jupyter-widgets/controls",
          "model_name": "DescriptionStyleModel",
          "model_module_version": "1.5.0",
          "state": {
            "_model_module": "@jupyter-widgets/controls",
            "_model_module_version": "1.5.0",
            "_model_name": "DescriptionStyleModel",
            "_view_count": null,
            "_view_module": "@jupyter-widgets/base",
            "_view_module_version": "1.2.0",
            "_view_name": "StyleView",
            "description_width": ""
          }
        }
      }
    }
  },
  "nbformat": 4,
  "nbformat_minor": 0
}